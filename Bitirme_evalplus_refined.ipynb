{
  "nbformat": 4,
  "nbformat_minor": 0,
  "metadata": {
    "colab": {
      "provenance": [],
      "gpuType": "T4",
      "authorship_tag": "ABX9TyPGTr1tz0DVfyJ2tCJ/g+yR",
      "include_colab_link": true
    },
    "kernelspec": {
      "name": "python3",
      "display_name": "Python 3"
    },
    "language_info": {
      "name": "python"
    },
    "accelerator": "GPU"
  },
  "cells": [
    {
      "cell_type": "markdown",
      "metadata": {
        "id": "view-in-github",
        "colab_type": "text"
      },
      "source": [
        "<a href=\"https://colab.research.google.com/github/parsakzr/ytu-bitirme/blob/main/Bitirme_evalplus_refined.ipynb\" target=\"_parent\"><img src=\"https://colab.research.google.com/assets/colab-badge.svg\" alt=\"Open In Colab\"/></a>"
      ]
    },
    {
      "cell_type": "code",
      "execution_count": 8,
      "metadata": {
        "colab": {
          "base_uri": "https://localhost:8080/"
        },
        "id": "RsouTn7t9w9V",
        "outputId": "fec957ef-0e93-4179-d3f4-5c0a547d7530"
      },
      "outputs": [
        {
          "output_type": "stream",
          "name": "stdout",
          "text": [
            "Requirement already satisfied: evalplus in /usr/local/lib/python3.10/dist-packages (0.2.0)\n",
            "Requirement already satisfied: wget>=3.2 in /usr/local/lib/python3.10/dist-packages (from evalplus) (3.2)\n",
            "Requirement already satisfied: tempdir>=0.7.1 in /usr/local/lib/python3.10/dist-packages (from evalplus) (0.7.1)\n",
            "Requirement already satisfied: multipledispatch>=0.6.0 in /usr/local/lib/python3.10/dist-packages (from evalplus) (1.0.0)\n",
            "Requirement already satisfied: appdirs>=1.4.4 in /usr/local/lib/python3.10/dist-packages (from evalplus) (1.4.4)\n",
            "Requirement already satisfied: numpy>=1.19.5 in /usr/local/lib/python3.10/dist-packages (from evalplus) (1.23.5)\n",
            "Requirement already satisfied: tqdm>=4.56.0 in /usr/local/lib/python3.10/dist-packages (from evalplus) (4.66.1)\n"
          ]
        }
      ],
      "source": [
        "!pip install evalplus --upgrade"
      ]
    },
    {
      "cell_type": "code",
      "source": [
        "!wget https://raw.githubusercontent.com/parsakzr/ytu-bitirme/main/evaluation/mistral-code/humanevalplus_mistralcode_samples_fixed_solution_code.jsonl?token=GHSAT0AAAAAAB7SHOEDD7WK7NKSWDLMRF4GZND4K5A"
      ],
      "metadata": {
        "colab": {
          "base_uri": "https://localhost:8080/"
        },
        "id": "cukbwSz7934E",
        "outputId": "be5dac9e-8152-4b86-8bbe-5609e8c9f474"
      },
      "execution_count": 2,
      "outputs": [
        {
          "output_type": "stream",
          "name": "stdout",
          "text": [
            "--2024-01-14 12:35:26--  https://raw.githubusercontent.com/parsakzr/ytu-bitirme/main/evaluation/mistral-code/humanevalplus_mistralcode_samples_fixed_solution_code.jsonl?token=GHSAT0AAAAAAB7SHOEDD7WK7NKSWDLMRF4GZND4K5A\n",
            "Resolving raw.githubusercontent.com (raw.githubusercontent.com)... 185.199.109.133, 185.199.111.133, 185.199.108.133, ...\n",
            "Connecting to raw.githubusercontent.com (raw.githubusercontent.com)|185.199.109.133|:443... connected.\n",
            "HTTP request sent, awaiting response... 200 OK\n",
            "Length: 54335 (53K) [text/plain]\n",
            "Saving to: ‘humanevalplus_mistralcode_samples_fixed_solution_code.jsonl?token=GHSAT0AAAAAAB7SHOEDD7WK7NKSWDLMRF4GZND4K5A’\n",
            "\n",
            "humanevalplus_mistr 100%[===================>]  53.06K  --.-KB/s    in 0.008s  \n",
            "\n",
            "2024-01-14 12:35:27 (6.35 MB/s) - ‘humanevalplus_mistralcode_samples_fixed_solution_code.jsonl?token=GHSAT0AAAAAAB7SHOEDD7WK7NKSWDLMRF4GZND4K5A’ saved [54335/54335]\n",
            "\n"
          ]
        }
      ]
    },
    {
      "cell_type": "code",
      "source": [
        "!evalplus.evaluate --dataset humaneval --samples humanevalplus_mistralcode_samples_fixed_solution_code.jsonl"
      ],
      "metadata": {
        "colab": {
          "base_uri": "https://localhost:8080/"
        },
        "id": "ko5euytu-CoI",
        "outputId": "28514a2e-523a-4d38-df93-577adc63bd29"
      },
      "execution_count": 3,
      "outputs": [
        {
          "output_type": "stream",
          "name": "stdout",
          "text": [
            "Downloading dataset from https://github.com/ganler/release/releases/download/humanevalplus/HumanEvalPlus-v0.1.9.jsonl.gz\n",
            "Computing expected output...\n",
            "Expected outputs computed in 23.68s\n",
            "Reading samples...\n",
            "164it [00:00, 8114.50it/s]\n",
            "100% 164/164 [00:16<00:00, 10.12it/s]\n",
            "Base\n",
            "{'pass@1': 0.25609756097560976}\n",
            "Base + Extra\n",
            "{'pass@1': 0.2073170731707317}\n"
          ]
        }
      ]
    },
    {
      "cell_type": "code",
      "source": [
        "!wget https://raw.githubusercontent.com/parsakzr/ytu-bitirme/main/evaluation/mistral-code/mbppplus_mistralcode_samples_fixed_entry_point.jsonl?token=GHSAT0AAAAAAB7SHOEDGFJJYMK62G63XWCOZND4OMQ mbppplus_mistralcode_samples_fixed_entry_point.jsonl"
      ],
      "metadata": {
        "colab": {
          "base_uri": "https://localhost:8080/"
        },
        "id": "GCl_IhGp-Ysa",
        "outputId": "6b13d29d-4eab-472c-e6a8-0119fd8671db"
      },
      "execution_count": 4,
      "outputs": [
        {
          "output_type": "stream",
          "name": "stdout",
          "text": [
            "--2024-01-14 12:38:03--  https://raw.githubusercontent.com/parsakzr/ytu-bitirme/main/evaluation/mistral-code/mbppplus_mistralcode_samples_fixed_entry_point.jsonl?token=GHSAT0AAAAAAB7SHOEDGFJJYMK62G63XWCOZND4OMQ\n",
            "Resolving raw.githubusercontent.com (raw.githubusercontent.com)... 185.199.108.133, 185.199.109.133, 185.199.110.133, ...\n",
            "Connecting to raw.githubusercontent.com (raw.githubusercontent.com)|185.199.108.133|:443... connected.\n",
            "HTTP request sent, awaiting response... 200 OK\n",
            "Length: 73031 (71K) [text/plain]\n",
            "Saving to: ‘mbppplus_mistralcode_samples_fixed_entry_point.jsonl?token=GHSAT0AAAAAAB7SHOEDGFJJYMK62G63XWCOZND4OMQ’\n",
            "\n",
            "\r          mbppplus_   0%[                    ]       0  --.-KB/s               \rmbppplus_mistralcod 100%[===================>]  71.32K  --.-KB/s    in 0.009s  \n",
            "\n",
            "2024-01-14 12:38:03 (7.59 MB/s) - ‘mbppplus_mistralcode_samples_fixed_entry_point.jsonl?token=GHSAT0AAAAAAB7SHOEDGFJJYMK62G63XWCOZND4OMQ’ saved [73031/73031]\n",
            "\n",
            "--2024-01-14 12:38:03--  http://mbppplus_mistralcode_samples_fixed_entry_point.jsonl/\n",
            "Resolving mbppplus_mistralcode_samples_fixed_entry_point.jsonl (mbppplus_mistralcode_samples_fixed_entry_point.jsonl)... failed: Name or service not known.\n",
            "wget: unable to resolve host address ‘mbppplus_mistralcode_samples_fixed_entry_point.jsonl’\n",
            "FINISHED --2024-01-14 12:38:03--\n",
            "Total wall clock time: 0.3s\n",
            "Downloaded: 1 files, 71K in 0.009s (7.59 MB/s)\n"
          ]
        }
      ]
    },
    {
      "cell_type": "code",
      "source": [
        "!evalplus.evaluate --dataset mbpp --samples mbppplus_mistralcode_samples_fixed_entry_point.jsonl"
      ],
      "metadata": {
        "colab": {
          "base_uri": "https://localhost:8080/"
        },
        "id": "ostcC6K9-qLk",
        "outputId": "8c340647-8310-4cfd-e5a1-c89b0099a65d"
      },
      "execution_count": 6,
      "outputs": [
        {
          "output_type": "stream",
          "name": "stdout",
          "text": [
            "Load from ground-truth from /root/.cache/evalplus/ebe95df0d5220f00cedd6f4bddea35e4.pkl\n",
            "Reading samples...\n",
            "399it [00:00, 6785.74it/s]\n",
            "100% 399/399 [01:06<00:00,  5.97it/s]\n",
            "Base\n",
            "{'pass@1': 0.38847117794486213}\n",
            "Base + Extra\n",
            "{'pass@1': 0.3182957393483709}\n"
          ]
        }
      ]
    },
    {
      "cell_type": "markdown",
      "source": [
        "### Phi-2 -> MBPP renamed samples"
      ],
      "metadata": {
        "id": "gUvYUBbe-_WH"
      }
    },
    {
      "cell_type": "code",
      "source": [
        "!wget https://raw.githubusercontent.com/parsakzr/ytu-bitirme/main/evaluation/phi2-code/mbpp_phi2_samples_fixed_entry_point.jsonl?token=GHSAT0AAAAAAB7SHOEC5HEONH5URZP4UAU4ZND4P2A mbpp_phi2_samples_fixed_entry_point.jsonl"
      ],
      "metadata": {
        "colab": {
          "base_uri": "https://localhost:8080/"
        },
        "id": "Ps6NHqa6-w5G",
        "outputId": "f27eb4cf-fc41-4d85-cb11-c24f14d57668"
      },
      "execution_count": 7,
      "outputs": [
        {
          "output_type": "stream",
          "name": "stdout",
          "text": [
            "--2024-01-14 12:42:12--  https://raw.githubusercontent.com/parsakzr/ytu-bitirme/main/evaluation/phi2-code/mbpp_phi2_samples_fixed_entry_point.jsonl?token=GHSAT0AAAAAAB7SHOEC5HEONH5URZP4UAU4ZND4P2A\n",
            "Resolving raw.githubusercontent.com (raw.githubusercontent.com)... 185.199.108.133, 185.199.109.133, 185.199.110.133, ...\n",
            "Connecting to raw.githubusercontent.com (raw.githubusercontent.com)|185.199.108.133|:443... connected.\n",
            "HTTP request sent, awaiting response... 200 OK\n",
            "Length: 92761 (91K) [text/plain]\n",
            "Saving to: ‘mbpp_phi2_samples_fixed_entry_point.jsonl?token=GHSAT0AAAAAAB7SHOEC5HEONH5URZP4UAU4ZND4P2A’\n",
            "\n",
            "mbpp_phi2_samples_f 100%[===================>]  90.59K  --.-KB/s    in 0.01s   \n",
            "\n",
            "2024-01-14 12:42:12 (7.97 MB/s) - ‘mbpp_phi2_samples_fixed_entry_point.jsonl?token=GHSAT0AAAAAAB7SHOEC5HEONH5URZP4UAU4ZND4P2A’ saved [92761/92761]\n",
            "\n",
            "--2024-01-14 12:42:12--  http://mbpp_phi2_samples_fixed_entry_point.jsonl/\n",
            "Resolving mbpp_phi2_samples_fixed_entry_point.jsonl (mbpp_phi2_samples_fixed_entry_point.jsonl)... failed: Name or service not known.\n",
            "wget: unable to resolve host address ‘mbpp_phi2_samples_fixed_entry_point.jsonl’\n",
            "FINISHED --2024-01-14 12:42:12--\n",
            "Total wall clock time: 0.3s\n",
            "Downloaded: 1 files, 91K in 0.01s (7.97 MB/s)\n"
          ]
        }
      ]
    },
    {
      "cell_type": "code",
      "source": [
        "!evalplus.evaluate --dataset mbpp --samples mbpp_phi2_samples_fixed_entry_point.jsonl"
      ],
      "metadata": {
        "colab": {
          "base_uri": "https://localhost:8080/"
        },
        "id": "8K3M2ZI5_nDS",
        "outputId": "23901b59-c38a-417e-99af-872b8a91db08"
      },
      "execution_count": 9,
      "outputs": [
        {
          "output_type": "stream",
          "name": "stdout",
          "text": [
            "Load from ground-truth from /root/.cache/evalplus/ebe95df0d5220f00cedd6f4bddea35e4.pkl\n",
            "Reading samples...\n",
            "399it [00:00, 5735.87it/s]\n",
            "100% 399/399 [01:36<00:00,  4.12it/s]\n",
            "Base\n",
            "{'pass@1': 0.6090225563909775}\n",
            "Base + Extra\n",
            "{'pass@1': 0.49373433583959897}\n"
          ]
        }
      ]
    },
    {
      "cell_type": "code",
      "source": [],
      "metadata": {
        "id": "5UWwNj2S_7Pl"
      },
      "execution_count": null,
      "outputs": []
    }
  ]
}